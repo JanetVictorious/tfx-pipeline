{
 "cells": [
  {
   "cell_type": "markdown",
   "metadata": {},
   "source": [
    "# Data validation\n",
    "\n",
    "This notebook briefly shows some ways and techniques for analysing artifacts from Generator components (e.g. ExampleGen, SchemaGen, etc.). All artifacts are fetched from the metadata storage."
   ]
  },
  {
   "cell_type": "code",
   "execution_count": 1,
   "metadata": {
    "jupyter": {
     "outputs_hidden": true
    },
    "tags": []
   },
   "outputs": [
    {
     "name": "stdout",
     "output_type": "stream",
     "text": [
      "TF version: 2.7.0\n",
      "TFDV version: 1.5.0\n"
     ]
    }
   ],
   "source": [
    "# Import required libs\n",
    "import glob\n",
    "import os\n",
    "import pprint\n",
    "import pandas as pd\n",
    "\n",
    "import tensorflow as tf\n",
    "import tensorflow_data_validation as tfdv\n",
    "from tensorflow_data_validation.utils.anomalies_util import load_anomalies_binary\n",
    "from tfx.orchestration import metadata\n",
    "from tfx.types import standard_artifacts, standard_component_specs\n",
    "from tfx.orchestration.experimental.interactive import visualizations, standard_visualizations\n",
    "\n",
    "from pipeline.configs import PIPELINE_NAME\n",
    "\n",
    "from utils.mlmd_helpers import get_latest_artifacts, visualize_artifacts_nb\n",
    "from utils.tfx_helpers import get_records\n",
    "\n",
    "pd.set_option(\"display.max_rows\", 100)\n",
    "pd.set_option(\"display.max_columns\", 100)\n",
    "\n",
    "standard_visualizations.register_standard_visualizations()\n",
    "pp = pprint.PrettyPrinter()\n",
    "\n",
    "print(f'TF version: {tf.version.VERSION}')\n",
    "print(f'TFDV version: {tfdv.version.__version__}')"
   ]
  },
  {
   "cell_type": "markdown",
   "metadata": {
    "jupyter": {
     "outputs_hidden": true
    }
   },
   "source": [
    "## Metadata artifacts\n",
    "\n",
    "In order to investigate generated components from the pipeline we need to fetch the desired artifacts.  \n",
    "\n",
    "We start by fetching the artifacts (if generated) from `ExampleGen`, `StatisticsGen`, `SchemaGen`, `ExampleValidator`, and `Transformer`."
   ]
  },
  {
   "cell_type": "code",
   "execution_count": 2,
   "metadata": {
    "jupyter": {
     "outputs_hidden": true
    }
   },
   "outputs": [
    {
     "name": "stdout",
     "output_type": "stream",
     "text": [
      "Transform not available\n"
     ]
    }
   ],
   "source": [
    "# Read artifact information from metadata store.\n",
    "\n",
    "# Metadata store path\n",
    "METADATA_PATH = os.path.abspath(os.path.join(os.getcwd(), '..',\n",
    "                                             'outputs/tfx_metadata',\n",
    "                                             PIPELINE_NAME,\n",
    "                                             'metadata.db'))\n",
    "\n",
    "# Data path\n",
    "DATA_PATH = os.path.abspath(os.path.join(os.getcwd(), 'data/chicago_taxi_trips/data.csv'))\n",
    "\n",
    "# Metadata store config\n",
    "metadata_connection_config = metadata.sqlite_metadata_connection_config(\n",
    "              METADATA_PATH)\n",
    "\n",
    "with metadata.Metadata(metadata_connection_config) as store:\n",
    "    # Load ExampleGen artifacts (generated before transform)\n",
    "    try:\n",
    "        example_artifacts = get_latest_artifacts(store, PIPELINE_NAME, 'CsvExampleGen')\n",
    "        # example_artifacts = get_latest_artifacts(store, PIPELINE_NAME, 'FileBasedExampleGen')\n",
    "    except AttributeError:\n",
    "        print('CsvExampleGen not available')\n",
    "    \n",
    "    # Load StatisticsGen artifacts\n",
    "    try:\n",
    "        # stats_artifacts = store.get_artifacts_by_type(standard_artifacts.ExampleStatistics.TYPE_NAME)\n",
    "        stats_artifacts = get_latest_artifacts(store, PIPELINE_NAME, 'StatisticsGen')\n",
    "    except AttributeError:\n",
    "        print('StatisticsGen not available')\n",
    "    \n",
    "    # Load SchemaGen artifacts\n",
    "    try:\n",
    "        # schema_artifacts = store.get_artifacts_by_type(standard_artifacts.Schema.TYPE_NAME)\n",
    "        schema_artifacts = get_latest_artifacts(store, PIPELINE_NAME, 'SchemaGen')\n",
    "    except AttributeError:\n",
    "        print('SchemaGen not available')\n",
    "    \n",
    "    # Load ExampleValidator artifacts\n",
    "    try:\n",
    "        # anomalies_artifacts = store.get_artifacts_by_type(standard_artifacts.ExampleAnomalies.TYPE_NAME)\n",
    "        anomalies_artifacts = get_latest_artifacts(store, PIPELINE_NAME, 'ExampleValidator')\n",
    "    except AttributeError:\n",
    "        print('ExampleValidator not available')\n",
    "\n",
    "    # Load Transform artifacts\n",
    "    try:\n",
    "        transform_artifacts = get_latest_artifacts(store, PIPELINE_NAME, 'Transform')\n",
    "    except AttributeError:\n",
    "        print('Transform not available')"
   ]
  },
  {
   "cell_type": "markdown",
   "metadata": {},
   "source": [
    "Next we need the URI's of the arifacts."
   ]
  },
  {
   "cell_type": "code",
   "execution_count": 3,
   "metadata": {
    "jupyter": {
     "outputs_hidden": true
    }
   },
   "outputs": [
    {
     "name": "stdout",
     "output_type": "stream",
     "text": [
      "Training data example URI: /Users/viktor.eriksson2/Documents/github/tfx-pipeline/outputs/tfx_pipeline_output/taxi_pipeline/CsvExampleGen/examples/1/Split-train\n",
      "Training data execution id: 1\n",
      "----------\n",
      "Train stats file: /Users/viktor.eriksson2/Documents/github/tfx-pipeline/outputs/tfx_pipeline_output/taxi_pipeline/StatisticsGen/statistics/2/Split-train/FeatureStats.pb, \n",
      "Eval stats file: /Users/viktor.eriksson2/Documents/github/tfx-pipeline/outputs/tfx_pipeline_output/taxi_pipeline/StatisticsGen/statistics/2/Split-eval/FeatureStats.pb\n",
      "Statistics execution id: 2\n",
      "----------\n",
      "Generated schema file: /Users/viktor.eriksson2/Documents/github/tfx-pipeline/outputs/tfx_pipeline_output/taxi_pipeline/SchemaGen/schema/3/schema.pbtxt\n",
      "Schema execution id: 3\n",
      "----------\n",
      "Generated anomalies file: /Users/viktor.eriksson2/Documents/github/tfx-pipeline/outputs/tfx_pipeline_output/taxi_pipeline/ExampleValidator/anomalies/4/Split-eval/SchemaDiff.pb\n",
      "Anomalies execution id: 4\n",
      "----------\n",
      "Transform not defined\n"
     ]
    }
   ],
   "source": [
    "# Extract artifacts URI paths and execution IDs\n",
    "try:\n",
    "    example_path = os.path.abspath(os.path.join('..', example_artifacts['examples'][-1].uri))\n",
    "    example_id = example_artifacts['examples'][-1].id\n",
    "    train_uri = os.path.join(example_path, 'Split-train')\n",
    "    print(f'Training data example URI: {train_uri}')\n",
    "    print(f'Training data execution id: {example_id}')\n",
    "except NameError:\n",
    "    print('Examples not defined')\n",
    "\n",
    "print('-' * 10)\n",
    "\n",
    "try:\n",
    "    stats_path = os.path.abspath(os.path.join('..', stats_artifacts['statistics'][-1].uri))\n",
    "    stats_id = stats_artifacts['statistics'][-1].id\n",
    "    train_stats_file = os.path.join(stats_path, 'Split-train', 'FeatureStats.pb')\n",
    "    eval_stats_file = os.path.join(stats_path, 'Split-eval', 'FeatureStats.pb')\n",
    "    print(f'Train stats file: {train_stats_file}, \\nEval stats file: {eval_stats_file}')\n",
    "    print(f'Statistics execution id: {stats_id}')\n",
    "except NameError:\n",
    "    print('Statistics not defined')\n",
    "\n",
    "print('-' * 10)\n",
    "\n",
    "try:\n",
    "    schema_path = os.path.abspath(os.path.join('..', schema_artifacts['schema'][-1].uri))\n",
    "    schema_id = schema_artifacts['schema'][-1].id\n",
    "    schema_file = os.path.join(schema_path, 'schema.pbtxt')\n",
    "    print(f'Generated schema file: {schema_file}')\n",
    "    print(f'Schema execution id: {schema_id}')\n",
    "except NameError:\n",
    "    print('Schema not defined')\n",
    "\n",
    "print('-' * 10)\n",
    "\n",
    "try:\n",
    "    anomalies_path = os.path.abspath(os.path.join('..', anomalies_artifacts['anomalies'][-1].uri))\n",
    "    anomalies_id = anomalies_artifacts['anomalies'][-1].id\n",
    "    anomalies_file = os.path.join(anomalies_path, 'Split-eval', 'SchemaDiff.pb')\n",
    "    print(f'Generated anomalies file: {anomalies_file}')\n",
    "    print(f'Anomalies execution id: {anomalies_id}')\n",
    "except NameError:\n",
    "    print('Anomalies not defined')\n",
    "\n",
    "print('-' * 10)\n",
    "\n",
    "try:\n",
    "    tf_examples_path = os.path.abspath(os.path.join('..', transform_artifacts['transformed_examples'][-1].uri))\n",
    "    tf_examples_id = transform_artifacts['transformed_examples'][-1].id\n",
    "    tf_examples_uri = os.path.join(tf_examples_path, 'Split-train')\n",
    "    \n",
    "    tf_stats_path = os.path.abspath(os.path.join('..', transform_artifacts['post_transform_stats'][-1].uri))\n",
    "    tf_stats_id = transform_artifacts['post_transform_stats'][-1].id\n",
    "    tf_stats_file = os.path.join(tf_stats_path, 'FeatureStats.pb')\n",
    "\n",
    "    tf_anom_path = os.path.abspath(os.path.join('..', transform_artifacts['post_transform_anomalies'][-1].uri))\n",
    "    tf_anom_id = transform_artifacts['post_transform_anomalies'][-1].id\n",
    "    tf_anom_file = os.path.join(tf_anom_path, 'SchemaDiff.pb')\n",
    "\n",
    "    print(f'Transformed training data example URI: {tf_examples_uri}')\n",
    "    print(f'Transformed training data execution id: {tf_examples_id}')\n",
    "    print(f'Generated post-transform stats file: {tf_stats_file}')\n",
    "    print(f'Transform stats execution id: {tf_stats_id}')\n",
    "    print(f'Generated post-transform anomalies file: {tf_anom_file}')\n",
    "    print(f'Transform anomalies execution id: {tf_anom_id}')\n",
    "    \n",
    "except NameError:\n",
    "    print('Transform not defined')\n"
   ]
  },
  {
   "cell_type": "markdown",
   "metadata": {},
   "source": [
    "## Data validation\n",
    "\n",
    "Next steps is to visualize the data.  \n",
    "\n",
    "We start by viewing the raw data."
   ]
  },
  {
   "cell_type": "code",
   "execution_count": 4,
   "metadata": {
    "jupyter": {
     "outputs_hidden": true
    }
   },
   "outputs": [
    {
     "name": "stdout",
     "output_type": "stream",
     "text": [
      "pickup_community_area,fare,trip_start_month,trip_start_hour,trip_start_day,trip_start_timestamp,pickup_latitude,pickup_longitude,dropoff_latitude,dropoff_longitude,trip_miles,pickup_census_tract,dropoff_census_tract,payment_type,company,trip_seconds,dropoff_community_area,tips\r\n",
      ",12.45,5,19,6,1400269500,,,,,0.0,,,Credit Card,Chicago Elite Cab Corp. (Chicago Carriag,0,,0.0\r\n",
      ",0,3,19,5,1362683700,,,,,0,,,Unknown,Chicago Elite Cab Corp.,300,,0\r\n",
      "60,27.05,10,2,3,1380593700,41.836150155,-87.648787952,,,12.6,,,Cash,Taxi Affiliation Services,1380,,0.0\r\n",
      "10,5.85,10,1,2,1382319000,41.985015101,-87.804532006,,,0.0,,,Cash,Taxi Affiliation Services,180,,0.0\r\n"
     ]
    }
   ],
   "source": [
    "# Preview the first few rows of the CSV file\n",
    "!head -n 5 {DATA_PATH}"
   ]
  },
  {
   "cell_type": "code",
   "execution_count": 5,
   "metadata": {
    "jupyter": {
     "outputs_hidden": true
    }
   },
   "outputs": [
    {
     "name": "stdout",
     "output_type": "stream",
     "text": [
      "[{'features': {'feature': {'company': {'bytesList': {'value': ['Q2hpY2FnbyBFbGl0ZSBDYWIgQ29ycC4gKENoaWNhZ28gQ2FycmlhZw==']}},\n",
      "                           'dropoff_census_tract': {'int64List': {}},\n",
      "                           'dropoff_community_area': {'int64List': {}},\n",
      "                           'dropoff_latitude': {'floatList': {}},\n",
      "                           'dropoff_longitude': {'floatList': {}},\n",
      "                           'fare': {'floatList': {'value': [12.45]}},\n",
      "                           'payment_type': {'bytesList': {'value': ['Q3JlZGl0IENhcmQ=']}},\n",
      "                           'pickup_census_tract': {'int64List': {}},\n",
      "                           'pickup_community_area': {'int64List': {}},\n",
      "                           'pickup_latitude': {'floatList': {}},\n",
      "                           'pickup_longitude': {'floatList': {}},\n",
      "                           'tips': {'floatList': {'value': [0.0]}},\n",
      "                           'trip_miles': {'floatList': {'value': [0.0]}},\n",
      "                           'trip_seconds': {'int64List': {'value': ['0']}},\n",
      "                           'trip_start_day': {'int64List': {'value': ['6']}},\n",
      "                           'trip_start_hour': {'int64List': {'value': ['19']}},\n",
      "                           'trip_start_month': {'int64List': {'value': ['5']}},\n",
      "                           'trip_start_timestamp': {'int64List': {'value': ['1400269500']}}}}}]\n"
     ]
    },
    {
     "name": "stderr",
     "output_type": "stream",
     "text": [
      "2022-02-13 19:11:54.087616: I tensorflow/core/platform/cpu_feature_guard.cc:151] This TensorFlow binary is optimized with oneAPI Deep Neural Network Library (oneDNN) to use the following CPU instructions in performance-critical operations:  AVX2 FMA\n",
      "To enable them in other operations, rebuild TensorFlow with the appropriate compiler flags.\n"
     ]
    }
   ],
   "source": [
    "# Preview first row as TFRecordDataset\n",
    "try:\n",
    "    data_files = [os.path.join(train_uri, name) for name in os.listdir(train_uri)]\n",
    "\n",
    "    # Create a `TFRecordDataset` to read the file\n",
    "    dataset = tf.data.TFRecordDataset(data_files, compression_type=\"GZIP\")\n",
    "\n",
    "    # Get records from the dataset\n",
    "    sample_records = get_records(dataset=dataset, num_records=1)\n",
    "\n",
    "    # Print records\n",
    "    pp.pprint(sample_records)\n",
    "except NameError:\n",
    "    print('train_uri not defined')"
   ]
  },
  {
   "cell_type": "code",
   "execution_count": 9,
   "metadata": {
    "jupyter": {
     "outputs_hidden": true
    }
   },
   "outputs": [
    {
     "name": "stdout",
     "output_type": "stream",
     "text": [
      "   pickup_community_area   fare  trip_start_month  trip_start_hour  \\\n",
      "0                    NaN  12.45                 5               19   \n",
      "1                    NaN   0.00                 3               19   \n",
      "2                   60.0  27.05                10                2   \n",
      "3                   10.0   5.85                10                1   \n",
      "4                   14.0  16.65                 5                7   \n",
      "5                   13.0  16.45                11               12   \n",
      "6                   16.0  32.05                12                1   \n",
      "7                   30.0  38.45                10               10   \n",
      "8                   11.0  14.65                 1                1   \n",
      "9                   33.0   3.25                 5               17   \n",
      "\n",
      "   trip_start_day  trip_start_timestamp  pickup_latitude  pickup_longitude  \\\n",
      "0               6            1400269500              NaN               NaN   \n",
      "1               5            1362683700              NaN               NaN   \n",
      "2               3            1380593700        41.836150        -87.648788   \n",
      "3               2            1382319000        41.985015        -87.804532   \n",
      "4               5            1369897200        41.968069        -87.721559   \n",
      "5               3            1446554700        41.983636        -87.723583   \n",
      "6               1            1417916700        41.953582        -87.723452   \n",
      "7               5            1444301100        41.839087        -87.714004   \n",
      "8               3            1358213400        41.978830        -87.771167   \n",
      "9               1            1368985500        41.849247        -87.624135   \n",
      "\n",
      "   dropoff_latitude  dropoff_longitude  trip_miles  pickup_census_tract  \\\n",
      "0               NaN                NaN        0.00                  NaN   \n",
      "1               NaN                NaN        0.00                  NaN   \n",
      "2               NaN                NaN       12.60                  NaN   \n",
      "3               NaN                NaN        0.00                  NaN   \n",
      "4               NaN                NaN        0.00                  NaN   \n",
      "5               NaN                NaN        6.90                  NaN   \n",
      "6               NaN                NaN       15.40                  NaN   \n",
      "7               NaN                NaN       14.60                  NaN   \n",
      "8               NaN                NaN        5.81                  NaN   \n",
      "9               NaN                NaN        0.00                  NaN   \n",
      "\n",
      "   dropoff_census_tract payment_type  \\\n",
      "0                   NaN  Credit Card   \n",
      "1                   NaN      Unknown   \n",
      "2                   NaN         Cash   \n",
      "3                   NaN         Cash   \n",
      "4                   NaN         Cash   \n",
      "5                   NaN         Cash   \n",
      "6                   NaN         Cash   \n",
      "7                   NaN         Cash   \n",
      "8                   NaN         Cash   \n",
      "9                   NaN         Cash   \n",
      "\n",
      "                                    company  trip_seconds  \\\n",
      "0  Chicago Elite Cab Corp. (Chicago Carriag           0.0   \n",
      "1                   Chicago Elite Cab Corp.         300.0   \n",
      "2                 Taxi Affiliation Services        1380.0   \n",
      "3                 Taxi Affiliation Services         180.0   \n",
      "4                 Dispatch Taxi Affiliation        1080.0   \n",
      "5                                       NaN         780.0   \n",
      "6                                       NaN        1200.0   \n",
      "7                                       NaN        2580.0   \n",
      "8                                       NaN        1080.0   \n",
      "9                 Taxi Affiliation Services           0.0   \n",
      "\n",
      "   dropoff_community_area  tips  \n",
      "0                     NaN   0.0  \n",
      "1                     NaN   0.0  \n",
      "2                     NaN   0.0  \n",
      "3                     NaN   0.0  \n",
      "4                     NaN   0.0  \n",
      "5                     NaN   0.0  \n",
      "6                     NaN   0.0  \n",
      "7                     NaN   0.0  \n",
      "8                     NaN   0.0  \n",
      "9                     NaN   0.0  \n",
      "------------------------------\n",
      "Shape of data: (15002, 18)\n",
      "------------------------------\n",
      "                          count          mean           std           min  \\\n",
      "pickup_community_area   15000.0  2.225027e+01  1.941483e+01  1.000000e+00   \n",
      "fare                    15002.0  1.176822e+01  1.153885e+01  0.000000e+00   \n",
      "trip_start_month        15002.0  6.585655e+00  3.390997e+00  1.000000e+00   \n",
      "trip_start_hour         15002.0  1.363232e+01  6.620927e+00  0.000000e+00   \n",
      "trip_start_day          15002.0  4.186642e+00  2.015694e+00  1.000000e+00   \n",
      "trip_start_timestamp    15002.0  1.408495e+09  2.916043e+07  1.357000e+09   \n",
      "pickup_latitude         15000.0  4.190305e+01  3.775149e-02  4.169488e+01   \n",
      "pickup_longitude        15000.0 -8.765755e+01  6.784619e-02 -8.791362e+01   \n",
      "dropoff_latitude        14519.0  4.190267e+01  3.847781e-02  4.166367e+01   \n",
      "dropoff_longitude       14519.0 -8.765411e+01  5.661618e-02 -8.791362e+01   \n",
      "trip_miles              15002.0  2.872820e+00  1.527601e+01  0.000000e+00   \n",
      "pickup_census_tract         1.0  1.703108e+10           NaN  1.703108e+10   \n",
      "dropoff_census_tract    10761.0  1.703135e+10  3.312243e+05  1.703101e+10   \n",
      "trip_seconds            14996.0  7.776275e+02  9.775388e+02  0.000000e+00   \n",
      "dropoff_community_area  14495.0  2.096778e+01  1.764106e+01  1.000000e+00   \n",
      "tips                    15002.0  1.076674e+00  2.158340e+00  0.000000e+00   \n",
      "\n",
      "                                 25%           50%           75%           max  \n",
      "pickup_community_area   8.000000e+00  8.000000e+00  3.200000e+01  7.700000e+01  \n",
      "fare                    5.850000e+00  7.850000e+00  1.245000e+01  7.000700e+02  \n",
      "trip_start_month        4.000000e+00  7.000000e+00  1.000000e+01  1.200000e+01  \n",
      "trip_start_hour         9.000000e+00  1.500000e+01  1.900000e+01  2.300000e+01  \n",
      "trip_start_day          2.000000e+00  4.000000e+00  6.000000e+00  7.000000e+00  \n",
      "trip_start_timestamp    1.384622e+09  1.407260e+09  1.431339e+09  1.483116e+09  \n",
      "pickup_latitude         4.188099e+01  4.189251e+01  4.192188e+01  4.200962e+01  \n",
      "pickup_longitude       -8.765600e+01 -8.763331e+01 -8.762621e+01 -8.757278e+01  \n",
      "dropoff_latitude        4.188099e+01  4.189322e+01  4.192269e+01  4.202122e+01  \n",
      "dropoff_longitude      -8.765680e+01 -8.763416e+01 -8.762621e+01 -8.754094e+01  \n",
      "trip_miles              0.000000e+00  1.000000e+00  2.500000e+00  1.710000e+03  \n",
      "pickup_census_tract     1.703108e+10  1.703108e+10  1.703108e+10  1.703108e+10  \n",
      "dropoff_census_tract    1.703108e+10  1.703124e+10  1.703183e+10  1.703198e+10  \n",
      "trip_seconds            3.600000e+02  5.400000e+02  9.600000e+02  7.212000e+04  \n",
      "dropoff_community_area  8.000000e+00  1.200000e+01  3.200000e+01  7.700000e+01  \n",
      "tips                    0.000000e+00  0.000000e+00  2.000000e+00  4.700000e+01  \n",
      "------------------------------\n",
      "Missing rate:\n",
      " pickup_community_area     0.000133\n",
      "fare                      0.000000\n",
      "trip_start_month          0.000000\n",
      "trip_start_hour           0.000000\n",
      "trip_start_day            0.000000\n",
      "trip_start_timestamp      0.000000\n",
      "pickup_latitude           0.000133\n",
      "pickup_longitude          0.000133\n",
      "dropoff_latitude          0.032196\n",
      "dropoff_longitude         0.032196\n",
      "trip_miles                0.000000\n",
      "pickup_census_tract       0.999933\n",
      "dropoff_census_tract      0.282696\n",
      "payment_type              0.000000\n",
      "company                   0.342621\n",
      "trip_seconds              0.000400\n",
      "dropoff_community_area    0.033795\n",
      "tips                      0.000000\n",
      "dtype: float64\n"
     ]
    }
   ],
   "source": [
    "# It can also be nice to see the data in a pandas dataframe\n",
    "df = pd.read_csv(DATA_PATH)\n",
    "print(df.head(10))\n",
    "print('-' * 30)\n",
    "print(f'Shape of data: {df.shape}')\n",
    "print('-' * 30)\n",
    "print(df.describe().T)\n",
    "print('-' * 30)\n",
    "print('Missing rate:\\n', df.isna().sum() / df.shape[0])"
   ]
  },
  {
   "cell_type": "markdown",
   "metadata": {},
   "source": [
    "### Tensorflow Data Validation\n",
    "\n",
    "We have loaded the statistics of both our train and evals sets. These will now be visualized and compared using the `tensorflow_data_validation` library."
   ]
  },
  {
   "cell_type": "code",
   "execution_count": 8,
   "metadata": {
    "jupyter": {
     "outputs_hidden": true
    }
   },
   "outputs": [
    {
     "data": {
      "text/html": [
       "<iframe id='facets-iframe' width=\"100%\" height=\"500px\"></iframe>\n",
       "        <script>\n",
       "        facets_iframe = document.getElementById('facets-iframe');\n",
       "        facets_html = '<script src=\"https://cdnjs.cloudflare.com/ajax/libs/webcomponentsjs/1.3.3/webcomponents-lite.js\"><\\/script><link rel=\"import\" href=\"https://raw.githubusercontent.com/PAIR-code/facets/master/facets-dist/facets-jupyter.html\"><facets-overview proto-input=\"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\"></facets-overview>';\n",
       "        facets_iframe.srcdoc = facets_html;\n",
       "         facets_iframe.id = \"\";\n",
       "         setTimeout(() => {\n",
       "           facets_iframe.setAttribute('height', facets_iframe.contentWindow.document.body.offsetHeight + 'px')\n",
       "         }, 1500)\n",
       "         </script>"
      ],
      "text/plain": [
       "<IPython.core.display.HTML object>"
      ]
     },
     "metadata": {},
     "output_type": "display_data"
    }
   ],
   "source": [
    "# Load generated statistics from StatisticsGen\n",
    "try:\n",
    "    train_stats = tfdv.load_stats_binary(train_stats_file)\n",
    "    eval_stats = tfdv.load_stats_binary(eval_stats_file)\n",
    "    tfdv.visualize_statistics(lhs_statistics=eval_stats, rhs_statistics=train_stats,\n",
    "                              lhs_name='EVAL_DATASET', rhs_name='TRAIN_DATASET')\n",
    "except NameError:\n",
    "    print('train_stats/eval_stats not defined')"
   ]
  },
  {
   "cell_type": "markdown",
   "metadata": {},
   "source": [
    "We review the schema created from the statistics.\n",
    "\n",
    "> **Note**: that the schema is based on the training split."
   ]
  },
  {
   "cell_type": "code",
   "execution_count": null,
   "metadata": {
    "jupyter": {
     "outputs_hidden": true
    }
   },
   "outputs": [],
   "source": [
    "# Load generated schema from SchemaGen\n",
    "try:\n",
    "    schema = tfdv.load_schema_text(schema_file)\n",
    "    tfdv.display_schema(schema=schema)\n",
    "except NameError:\n",
    "    print('schema not defined')"
   ]
  },
  {
   "cell_type": "markdown",
   "metadata": {},
   "source": [
    "Next, we review if there are any anomalies detected in the `eval` dataset. The anomalies are calculated based on the generated statistics and schema from the `train` dataset."
   ]
  },
  {
   "cell_type": "code",
   "execution_count": null,
   "metadata": {
    "jupyter": {
     "outputs_hidden": true
    }
   },
   "outputs": [],
   "source": [
    "# Load data vaildation result from ExampleValidator\n",
    "try:\n",
    "    anomalies = load_anomalies_binary(anomalies_file)\n",
    "    tfdv.display_anomalies(anomalies)\n",
    "except NameError:\n",
    "    print('anomalies not defined')"
   ]
  },
  {
   "cell_type": "markdown",
   "metadata": {},
   "source": [
    "Since we apply some transformations to the data before training a model it can be of interest to review that data too."
   ]
  },
  {
   "cell_type": "code",
   "execution_count": null,
   "metadata": {
    "jupyter": {
     "outputs_hidden": true
    }
   },
   "outputs": [],
   "source": [
    "# Preview first transformed data\n",
    "try:\n",
    "    tf_data_files = [os.path.join(tf_examples_uri, name) for name in os.listdir(tf_examples_uri)]\n",
    "\n",
    "    # Create a `TFRecordDataset` to read the file\n",
    "    tf_dataset = tf.data.TFRecordDataset(tf_data_files, compression_type=\"GZIP\")\n",
    "\n",
    "    # Get records from the dataset\n",
    "    tf_sample_records = get_records(dataset=tf_dataset, num_records=3)\n",
    "\n",
    "    # Print records\n",
    "    pp.pprint(tf_sample_records)\n",
    "except NameError:\n",
    "    print('tf_examples_uri not defined')"
   ]
  },
  {
   "cell_type": "markdown",
   "metadata": {},
   "source": [
    "Let's review the statistics visualization of the transformed data."
   ]
  },
  {
   "cell_type": "code",
   "execution_count": null,
   "metadata": {
    "jupyter": {
     "outputs_hidden": true
    }
   },
   "outputs": [],
   "source": [
    "# Load generated statistics from Transform\n",
    "try:\n",
    "    tf_stats = tfdv.load_stats_binary(tf_stats_file)\n",
    "    tfdv.visualize_statistics(tf_stats)\n",
    "except NameError:\n",
    "    print('post-transform stats not defined')"
   ]
  },
  {
   "cell_type": "markdown",
   "metadata": {},
   "source": [
    "Lastly, we check if there are any anomalies detected in the transformed eval dataset."
   ]
  },
  {
   "cell_type": "code",
   "execution_count": null,
   "metadata": {
    "jupyter": {
     "outputs_hidden": true
    }
   },
   "outputs": [],
   "source": [
    "# Load data vaildation result from Transform\n",
    "try:\n",
    "    tf_anomalies = load_anomalies_binary(tf_anom_file)\n",
    "    tfdv.display_anomalies(tf_anomalies)\n",
    "except NameError:\n",
    "    print('post-transform anomalies not defined')"
   ]
  },
  {
   "cell_type": "markdown",
   "metadata": {
    "jupyter": {
     "outputs_hidden": true
    }
   },
   "source": [
    "# Wrap up\n",
    "\n",
    "And we're done! You have now investigated the artifacts generated by the data related components of the pipeline."
   ]
  }
 ],
 "metadata": {
  "kernelspec": {
   "display_name": "Python 3 (ipykernel)",
   "language": "python",
   "name": "python3"
  },
  "language_info": {
   "codemirror_mode": {
    "name": "ipython",
    "version": 3
   },
   "file_extension": ".py",
   "mimetype": "text/x-python",
   "name": "python",
   "nbconvert_exporter": "python",
   "pygments_lexer": "ipython3",
   "version": "3.8.10"
  },
  "pycharm": {
   "stem_cell": {
    "cell_type": "raw",
    "metadata": {
     "collapsed": false
    },
    "source": []
   }
  }
 },
 "nbformat": 4,
 "nbformat_minor": 4
}
